{
  "nbformat": 4,
  "nbformat_minor": 0,
  "metadata": {
    "colab": {
      "provenance": [],
      "collapsed_sections": [
        "uSq0Ow4wukeh",
        "qfGmLEx3uo0G",
        "fMvJRzspuTof",
        "yZYnoJRouf_k",
        "J9vf2XtRRpl0",
        "J0NOzhwQvb7d",
        "i6Z3ZNBe1QUQ",
        "eWENM_Lh_fRV",
        "gswT4ZwsHauM",
        "W_FquNWbI36t"
      ]
    },
    "kernelspec": {
      "name": "python3",
      "display_name": "Python 3"
    },
    "language_info": {
      "name": "python"
    }
  },
  "cells": [
    {
      "cell_type": "markdown",
      "source": [
        "#**PROBLEMA DE NEGOCIO**\n",
        "\n",
        "\n",
        "---\n",
        "\n",
        "\n"
      ],
      "metadata": {
        "id": "hzRQ35N6mWsH"
      }
    },
    {
      "cell_type": "markdown",
      "source": [
        "##Una empresa de telecomunicaciones desea mejorar la retención de sus clientes, identificando aquellos que tienen más chances de abandonar el servicio (Churn). Como científico de datos, tu objetivo será limpiar y preparar un conjunto de datos para el entrenamiento de un modelo de Churn. A continuación, se presentan las preguntas clave que guiarán el proceso de limpieza de datos:"
      ],
      "metadata": {
        "id": "UGwFIqCdmavM"
      }
    },
    {
      "cell_type": "markdown",
      "source": [
        "### **Preguntas**\n",
        "\n",
        "1. ¿Qué insights podemos obtener del análisis exploratorio inicial del conjunto de datos?\n",
        "\n",
        "2. ¿Qué transformaciones básicas son necesarias para preparar los datos?\n",
        "\n",
        "3. ¿Cómo podemos identificar y tratar los datos duplicados y los valores nulos?\n",
        "\n",
        "4. ¿Cómo manejamos los outliers presentes en el dataset?\n",
        "\n",
        "5. ¿Qué técnicas aplicamos para procesar las variables categóricas?"
      ],
      "metadata": {
        "id": "bHlnxw5lm03j"
      }
    },
    {
      "cell_type": "markdown",
      "source": [
        "#**1. Configuración del Ambiente**\n",
        "\n",
        "\n",
        "---\n",
        "\n",
        "\n"
      ],
      "metadata": {
        "id": "uSq0Ow4wukeh"
      }
    },
    {
      "cell_type": "code",
      "source": [
        "import numpy as np\n",
        "import pandas as pd\n",
        "pd.set_option('display.max_columns', None)\n",
        "import seaborn as sns\n",
        "import matplotlib.pyplot as plt\n",
        "import json\n",
        "from sklearn.model_selection import train_test_split\n",
        "from sklearn.ensemble import RandomForestClassifier\n",
        "from sklearn.feature_selection import SelectKBest\n",
        "from sklearn.feature_selection import chi2\n",
        "from sklearn.feature_selection import RFECV\n",
        "from sklearn.feature_selection import RFE\n",
        "from sklearn.decomposition import PCA\n",
        "from sklearn.model_selection import cross_val_score\n",
        "global datos_churn"
      ],
      "metadata": {
        "id": "EX4-CKFTu2Zn"
      },
      "execution_count": null,
      "outputs": []
    },
    {
      "cell_type": "markdown",
      "source": [
        "#**2. Obtención y Tratamiento de Datos**\n",
        "\n",
        "\n",
        "---\n",
        "\n",
        "\n"
      ],
      "metadata": {
        "id": "qfGmLEx3uo0G"
      }
    },
    {
      "cell_type": "markdown",
      "source": [
        "##**2.1 Cargando las bases de datos**"
      ],
      "metadata": {
        "id": "fMvJRzspuTof"
      }
    },
    {
      "cell_type": "code",
      "source": [
        "datos_churn = pd.read_json(\"base_clientes.json\")\n",
        "datos_churn.head()"
      ],
      "metadata": {
        "id": "BHBJivg4QrQc"
      },
      "execution_count": null,
      "outputs": []
    },
    {
      "cell_type": "code",
      "source": [
        "datos_churn.info()"
      ],
      "metadata": {
        "id": "LAGV5ffRpul8"
      },
      "execution_count": null,
      "outputs": []
    },
    {
      "cell_type": "code",
      "source": [
        "def lectura_datos():\n",
        "  global datos_churn\n",
        "  #Tu código aquí"
      ],
      "metadata": {
        "id": "BvydtftJqLKv"
      },
      "execution_count": null,
      "outputs": []
    },
    {
      "cell_type": "code",
      "source": [
        "lectura_datos()\n",
        "datos_churn.head()"
      ],
      "metadata": {
        "id": "mrSaTdMArKSK"
      },
      "execution_count": null,
      "outputs": []
    },
    {
      "cell_type": "markdown",
      "source": [
        "##**2.2 Tratamiento de datos**"
      ],
      "metadata": {
        "id": "yZYnoJRouf_k"
      }
    },
    {
      "cell_type": "code",
      "source": [
        "with open('/content/Diccionario.txt', 'r', encoding='utf-8') as file:\n",
        "    contenido = file.read()\n",
        "print(contenido)"
      ],
      "metadata": {
        "id": "syRfgo9eujxN"
      },
      "execution_count": null,
      "outputs": []
    },
    {
      "cell_type": "code",
      "source": [
        "datos_churn.info()"
      ],
      "metadata": {
        "id": "3SE_4vqdrbtd"
      },
      "execution_count": null,
      "outputs": []
    },
    {
      "cell_type": "code",
      "source": [
        "def preprocesamiento():\n",
        "  global datos_churn\n",
        "  #Tu código aquí"
      ],
      "metadata": {
        "id": "XiJUX2VA2IJW"
      },
      "execution_count": null,
      "outputs": []
    },
    {
      "cell_type": "code",
      "source": [
        "preprocesamiento()\n",
        "datos_churn.info()"
      ],
      "metadata": {
        "id": "0mKRPtp5GmOj"
      },
      "execution_count": null,
      "outputs": []
    },
    {
      "cell_type": "markdown",
      "source": [
        "##**2.3 Normalizacion de datos**"
      ],
      "metadata": {
        "id": "J9vf2XtRRpl0"
      }
    },
    {
      "cell_type": "code",
      "source": [
        "for col in datos_churn.columns:\n",
        "    print(f\"Columna: {col}\")\n",
        "    print(datos_churn[col].unique())\n",
        "    print(\"-\" * 30)"
      ],
      "metadata": {
        "id": "Ra50g_EgRsV3"
      },
      "execution_count": null,
      "outputs": []
    },
    {
      "cell_type": "code",
      "source": [
        "def normalizacion():\n",
        "  global datos_churn\n",
        "  #Tu código aquí"
      ],
      "metadata": {
        "id": "pwNyedOzVcTk"
      },
      "execution_count": null,
      "outputs": []
    },
    {
      "cell_type": "code",
      "source": [
        "normalizacion()\n",
        "datos_churn.head()"
      ],
      "metadata": {
        "id": "xka2HArMXB0Z"
      },
      "execution_count": null,
      "outputs": []
    },
    {
      "cell_type": "code",
      "source": [
        "datos_churn.info()"
      ],
      "metadata": {
        "id": "stDuLF5HX7Ut"
      },
      "execution_count": null,
      "outputs": []
    },
    {
      "cell_type": "markdown",
      "source": [
        "#**3. Modelo Random Forest**\n",
        "\n",
        "\n",
        "---\n"
      ],
      "metadata": {
        "id": "J0NOzhwQvb7d"
      }
    },
    {
      "cell_type": "code",
      "source": [
        "y = datos_churn['Churn']\n",
        "x = datos_churn.drop(columns='Churn')\n",
        "train_x, test_x, train_y, test_y = train_test_split(x, y, test_size=0.3, random_state = 50)"
      ],
      "metadata": {
        "id": "WqIW_6Frkkbn"
      },
      "execution_count": null,
      "outputs": []
    },
    {
      "cell_type": "code",
      "source": [
        "def pronosticar(train_x, train_y):\n",
        "  model = RandomForestClassifier(random_state=50)\n",
        "  model.fit(train_x, train_y)\n",
        "  return model"
      ],
      "metadata": {
        "id": "uzE3jMjZkEu2"
      },
      "execution_count": null,
      "outputs": []
    },
    {
      "cell_type": "code",
      "source": [
        "model = pronosticar(train_x, train_y)\n",
        "model.score(test_x, test_y)"
      ],
      "metadata": {
        "id": "6Fn6fluQlyL1"
      },
      "execution_count": null,
      "outputs": []
    },
    {
      "cell_type": "markdown",
      "source": [
        "#**4. Reducción de Dimensionalidad**\n",
        "\n",
        "\n",
        "---\n"
      ],
      "metadata": {
        "id": "i6Z3ZNBe1QUQ"
      }
    },
    {
      "cell_type": "markdown",
      "source": [
        "##**4.1 Métodos Gráficos**"
      ],
      "metadata": {
        "id": "eWENM_Lh_fRV"
      }
    },
    {
      "cell_type": "code",
      "source": [
        "def diagrama_violin(df, inicio, fin):\n",
        "    #Tu código aquí\n",
        "\n",
        "def diagrama_puntos(df, inicio, fin):\n",
        "    #Tu código aquí\n",
        "\n",
        "def mapa_calor(df):\n",
        "    #Tu código aquí"
      ],
      "metadata": {
        "id": "rWnXtKx7nCgx"
      },
      "execution_count": null,
      "outputs": []
    },
    {
      "cell_type": "code",
      "source": [
        "diagrama_violin(datos_churn, 1, 30)"
      ],
      "metadata": {
        "id": "q9AIHt2s1yLp"
      },
      "execution_count": null,
      "outputs": []
    },
    {
      "cell_type": "code",
      "source": [
        "diagrama_puntos(datos_churn, 1, 30)"
      ],
      "metadata": {
        "id": "T3JyHfJZylS3"
      },
      "execution_count": null,
      "outputs": []
    },
    {
      "cell_type": "code",
      "source": [
        "datos_churn.groupby('Churn')[\"telefono.varias_lineas_sin servicio de telefono\"].value_counts(normalize=True)"
      ],
      "metadata": {
        "id": "bdClw3ALz3d3"
      },
      "execution_count": null,
      "outputs": []
    },
    {
      "cell_type": "code",
      "source": [
        "train_x = train_x.drop(columns=[\"telefono.varias_lineas_sin servicio de telefono\"])\n",
        "test_x = test_x.drop(columns=[\"telefono.varias_lineas_sin servicio de telefono\"])\n",
        "model = pronosticar(train_x, train_y)\n",
        "model.score(test_x, test_y)"
      ],
      "metadata": {
        "id": "Qg-jXv2eG8Pr"
      },
      "execution_count": null,
      "outputs": []
    },
    {
      "cell_type": "markdown",
      "source": [
        "##**4.2 Mapa de Calor**"
      ],
      "metadata": {
        "id": "gswT4ZwsHauM"
      }
    },
    {
      "cell_type": "code",
      "source": [
        "matriz = mapa_calor(datos_churn)"
      ],
      "metadata": {
        "id": "0tYfZHOr27NQ"
      },
      "execution_count": null,
      "outputs": []
    },
    {
      "cell_type": "code",
      "source": [
        "matriz2 = matriz>0.99\n",
        "matriz2 = matriz2.sum()\n",
        "matriz2[matriz2>1]"
      ],
      "metadata": {
        "id": "xeo79fScAKAb"
      },
      "execution_count": null,
      "outputs": []
    },
    {
      "cell_type": "code",
      "source": [
        "def identificar_variables(base):\n",
        "  #Tu código aquí"
      ],
      "metadata": {
        "id": "gnjPTfiJFw9A"
      },
      "execution_count": null,
      "outputs": []
    },
    {
      "cell_type": "code",
      "source": [
        "identificar_variables(matriz2[matriz2>1])"
      ],
      "metadata": {
        "id": "7eEqqGajIQak"
      },
      "execution_count": null,
      "outputs": []
    },
    {
      "cell_type": "code",
      "source": [
        "train_x = train_x.drop(columns=['internet.seguridad_online_sin servicio de internet', 'internet.peliculas_streaming_sin servicio de internet', 'internet.backup_online_sin servicio de internet', 'internet.tv_streaming_sin servicio de internet', 'internet.soporte_tecnico_sin servicio de internet', 'internet.proteccion_dispositivo_sin servicio de internet','cuenta.contrato_un año'])\n",
        "test_x = test_x.drop(columns=['internet.seguridad_online_sin servicio de internet', 'internet.peliculas_streaming_sin servicio de internet', 'internet.backup_online_sin servicio de internet', 'internet.tv_streaming_sin servicio de internet', 'internet.soporte_tecnico_sin servicio de internet', 'internet.proteccion_dispositivo_sin servicio de internet','cuenta.contrato_un año'])\n",
        "model = pronosticar(train_x, train_y)\n",
        "model.score(test_x, test_y)"
      ],
      "metadata": {
        "id": "Uj5tFqVZHprs"
      },
      "execution_count": null,
      "outputs": []
    },
    {
      "cell_type": "markdown",
      "source": [
        "##**4.3 Feature Importances**"
      ],
      "metadata": {
        "id": "W_FquNWbI36t"
      }
    },
    {
      "cell_type": "code",
      "source": [
        "def pronosticar_kbest(train_x, test_x, train_y, test_y):\n",
        "  #Tu código aquí"
      ],
      "metadata": {
        "id": "p6M6a0IoL3Zp"
      },
      "execution_count": null,
      "outputs": []
    },
    {
      "cell_type": "code",
      "source": [
        "pronosticar_kbest(train_x, test_x, train_y, test_y)"
      ],
      "metadata": {
        "id": "xrm1P-hPMfly"
      },
      "execution_count": null,
      "outputs": []
    },
    {
      "cell_type": "code",
      "source": [
        "def pronosticar_RFE(train_x, test_x, train_y, test_y):\n",
        "    #Tu código aquí"
      ],
      "metadata": {
        "id": "_tycvFeCVcBa"
      },
      "execution_count": null,
      "outputs": []
    },
    {
      "cell_type": "code",
      "source": [
        "pronosticar_RFE(train_x, test_x, train_y, test_y)"
      ],
      "metadata": {
        "id": "wnprZVBGWfoH"
      },
      "execution_count": null,
      "outputs": []
    },
    {
      "cell_type": "code",
      "source": [
        "def pronosticar_RFECV(train_x, test_x, train_y, test_y):\n",
        "    #Tu código aquí"
      ],
      "metadata": {
        "id": "FPqip9goOBCQ"
      },
      "execution_count": null,
      "outputs": []
    },
    {
      "cell_type": "code",
      "source": [
        "pronosticar_RFECV(train_x, test_x, train_y, test_y)"
      ],
      "metadata": {
        "id": "GyCz_0t6Ou9A"
      },
      "execution_count": null,
      "outputs": []
    },
    {
      "cell_type": "code",
      "source": [
        "def pronosticar_PCA(train_x, test_x, train_y, test_y):\n",
        "    #Tu código aquí"
      ],
      "metadata": {
        "id": "Y8MLKgdBR6cK"
      },
      "execution_count": null,
      "outputs": []
    },
    {
      "cell_type": "code",
      "source": [
        "pronosticar_PCA(train_x, test_x, train_y, test_y)"
      ],
      "metadata": {
        "id": "LaK7pqZGUgTR"
      },
      "execution_count": null,
      "outputs": []
    }
  ]
}